{
 "cells": [
  {
   "cell_type": "markdown",
   "metadata": {},
   "source": [
    "## To do:\n",
    "\n",
    "BEST FOR NOW 0.832\n",
    "\n",
    "- Cross Validation\n",
    "- Si titre pas bon (Que des stopwords) cf 9608115, Il faut faire quelque chose. Remplacer les titres pas bons par les mots de l'abstract avec tfidf le plus fort, poru le nombre de mots, moyenne (cf dans la fonction)\n",
    "--> Essayer abstract, essayer meilleurs tfidf et prendre le meilleur\n",
    "\n",
    "    - Sans le tfidf abstract : 0.832\n",
    "    - Sans titre : 0.823\n",
    "    - tfidf : \n",
    "    \n",
    "    \n",
    "- Vérifier que ce n'est pas mieux avec overlap abstract et overlap title\n",
    "- Graph\n",
    "- J'ai l'impression qu'on ne stem pas.. à voir \n",
    "- Essayer de retirer tous les outliers (pas de titre, pas de journal) avant de trainer"
   ]
  },
  {
   "cell_type": "code",
   "execution_count": 498,
   "metadata": {},
   "outputs": [],
   "source": [
    "import random\n",
    "import numpy as np\n",
    "import igraph\n",
    "from sklearn import svm\n",
    "from sklearn.feature_extraction.text import TfidfVectorizer\n",
    "from sklearn.metrics.pairwise import linear_kernel\n",
    "from sklearn.metrics import f1_score\n",
    "from sklearn import preprocessing\n",
    "from sklearn.ensemble import RandomForestClassifier, ExtraTreesClassifier\n",
    "from sklearn.linear_model import LogisticRegression\n",
    "from sklearn.preprocessing import LabelEncoder\n",
    "from sklearn.decomposition import TruncatedSVD\n",
    "from sklearn.model_selection import train_test_split\n",
    "import nltk\n",
    "import csv\n",
    "import pandas as pd\n",
    "import xgboost as xgb"
   ]
  },
  {
   "cell_type": "code",
   "execution_count": 378,
   "metadata": {},
   "outputs": [
    {
     "name": "stdout",
     "output_type": "stream",
     "text": [
      "[nltk_data] Downloading package punkt to /Users/Jenny/nltk_data...\n",
      "[nltk_data]   Package punkt is already up-to-date!\n",
      "[nltk_data] Downloading package stopwords to /Users/Jenny/nltk_data...\n",
      "[nltk_data]   Package stopwords is already up-to-date!\n"
     ]
    }
   ],
   "source": [
    "from nltk.cluster.util import cosine_distance\n",
    "nltk.download('punkt') # for tokenization\n",
    "nltk.download('stopwords')\n",
    "stpwds = set(nltk.corpus.stopwords.words(\"english\"))\n",
    "stemmer = nltk.stem.PorterStemmer()"
   ]
  },
  {
   "cell_type": "markdown",
   "metadata": {},
   "source": [
    "note: Kaggle requires that you add \"ID\" and \"category\" column headers"
   ]
  },
  {
   "cell_type": "markdown",
   "metadata": {},
   "source": [
    "# Feature Engineering"
   ]
  },
  {
   "cell_type": "markdown",
   "metadata": {},
   "source": [
    "### Data loading and preprocessing "
   ]
  },
  {
   "cell_type": "code",
   "execution_count": 414,
   "metadata": {
    "collapsed": true
   },
   "outputs": [],
   "source": [
    "with open(\"training_set.txt\", \"r\") as f:\n",
    "    reader = csv.reader(f)\n",
    "    training_set  = list(reader)\n",
    "\n",
    "training_set = [element[0].split(\" \") for element in training_set]"
   ]
  },
  {
   "cell_type": "code",
   "execution_count": 415,
   "metadata": {
    "collapsed": true
   },
   "outputs": [],
   "source": [
    "with open(\"node_information.csv\", \"r\") as f:\n",
    "    reader = csv.reader(f)\n",
    "    node_info  = list(reader)\n",
    "\n",
    "IDs = [element[0] for element in node_info]"
   ]
  },
  {
   "cell_type": "markdown",
   "metadata": {},
   "source": [
    "### Clean and preparing the set"
   ]
  },
  {
   "cell_type": "markdown",
   "metadata": {},
   "source": [
    "##### Inputing missing titles"
   ]
  },
  {
   "cell_type": "markdown",
   "metadata": {},
   "source": [
    "Mean of number of words in titles"
   ]
  },
  {
   "cell_type": "code",
   "execution_count": 381,
   "metadata": {},
   "outputs": [
    {
     "data": {
      "text/plain": [
       "7.5944544472452282"
      ]
     },
     "execution_count": 381,
     "metadata": {},
     "output_type": "execute_result"
    }
   ],
   "source": [
    "np.mean([len(el[2].split(' ')) for el in node_info])"
   ]
  },
  {
   "cell_type": "markdown",
   "metadata": {},
   "source": [
    "There are in average 8 words in every title. Without stopwords, we consider 5 the number of words to input."
   ]
  },
  {
   "cell_type": "code",
   "execution_count": 382,
   "metadata": {
    "collapsed": true
   },
   "outputs": [],
   "source": [
    "def find_best_from_abstract(abstract, n = 5):\n",
    "    vectorizer = TfidfVectorizer(stop_words=\"english\")\n",
    "    # each row is a node in the order of node_info\n",
    "    features_TFIDF = vectorizer.fit_transform([abstract])\n",
    "    indices = np.argsort(vectorizer.idf_)[::-1]\n",
    "    features = vectorizer.get_feature_names()\n",
    "    top_features = [features[i] for i in indices[:n]]\n",
    "    title = \"\"\n",
    "    for el in top_features:\n",
    "        title+=el+\" \"\n",
    "    return title"
   ]
  },
  {
   "cell_type": "markdown",
   "metadata": {},
   "source": [
    "Input titles for missing titles or too short titles."
   ]
  },
  {
   "cell_type": "code",
   "execution_count": 383,
   "metadata": {
    "collapsed": true
   },
   "outputs": [],
   "source": [
    "for i in range(len(node_info)):\n",
    "    if len(node_info[i][2]) < 3:\n",
    "        node_info[i][2] = find_best_from_abstract(node_info[i][5])"
   ]
  },
  {
   "cell_type": "markdown",
   "metadata": {},
   "source": [
    "##### Graph"
   ]
  },
  {
   "cell_type": "markdown",
   "metadata": {},
   "source": [
    "Create a graph"
   ]
  },
  {
   "cell_type": "code",
   "execution_count": 384,
   "metadata": {
    "collapsed": true
   },
   "outputs": [],
   "source": [
    "edges = [(element[0],element[1]) for element in training_set if element[2]==\"1\"]\n",
    "nodes = IDs\n",
    "\n",
    "g = igraph.Graph(directed=True)\n",
    "g.add_vertices(nodes)\n",
    "g.add_edges(edges)"
   ]
  },
  {
   "cell_type": "code",
   "execution_count": 385,
   "metadata": {
    "collapsed": true
   },
   "outputs": [],
   "source": [
    "list_indegrees = g.indegree()\n",
    "list_outdegrees = g.outdegree()\n",
    "cores = g.shell_index()"
   ]
  },
  {
   "cell_type": "markdown",
   "metadata": {},
   "source": [
    "Compute tfidf for each graph"
   ]
  },
  {
   "cell_type": "code",
   "execution_count": 386,
   "metadata": {
    "collapsed": true,
    "scrolled": true
   },
   "outputs": [],
   "source": [
    "corpus = [element[5] for element in node_info]\n",
    "\n",
    "\n",
    "vectorizer = TfidfVectorizer(stop_words=\"english\")\n",
    "# each row is a node in the order of node_info\n",
    "features_TFIDF = vectorizer.fit_transform(corpus)\n",
    "\n",
    "tfidf_matrix_abstract = features_TFIDF.toarray() #line : abstract, column : mot"
   ]
  },
  {
   "cell_type": "code",
   "execution_count": 387,
   "metadata": {
    "collapsed": true
   },
   "outputs": [],
   "source": [
    "svd = TruncatedSVD(n_components = 100)\n",
    "svdMatrix_abstract = svd.fit_transform(tfidf_matrix_abstract)"
   ]
  },
  {
   "cell_type": "code",
   "execution_count": 388,
   "metadata": {
    "collapsed": true,
    "scrolled": true
   },
   "outputs": [],
   "source": [
    "corpus = [element[2] for element in node_info]\n",
    "vectorizer = TfidfVectorizer(stop_words=\"english\")\n",
    "\n",
    "features_TFIDF = vectorizer.fit_transform(corpus)\n",
    "tfidf_matrix_title = features_TFIDF.toarray() #line : abstract, column : mot"
   ]
  },
  {
   "cell_type": "code",
   "execution_count": 389,
   "metadata": {
    "collapsed": true
   },
   "outputs": [],
   "source": [
    "svd = TruncatedSVD(n_components = 100)\n",
    "svdMatrix_title = svd.fit_transform(tfidf_matrix_title)"
   ]
  },
  {
   "cell_type": "markdown",
   "metadata": {},
   "source": [
    "##### Similarity matrix"
   ]
  },
  {
   "cell_type": "code",
   "execution_count": 390,
   "metadata": {
    "collapsed": true
   },
   "outputs": [],
   "source": [
    "def find_similarity_lsa(index_source, index_target, svdMatrix):\n",
    "    vector1 = svdMatrix[index_source]\n",
    "    vector2 = svdMatrix[index_target]\n",
    "    \n",
    "    lsa = cosine_distance(vector1, vector2)\n",
    "    if np.isnan(lsa):\n",
    "        return 0.0\n",
    "    else:\n",
    "        return 1 - lsa"
   ]
  },
  {
   "cell_type": "code",
   "execution_count": 391,
   "metadata": {
    "collapsed": true
   },
   "outputs": [],
   "source": [
    "def find_similarity_tfidf_abstract(index_source, index_target):\n",
    "    \n",
    "    vector1 = tfidf_matrix_abstract[index_source]\n",
    "    vector2 = tfidf_matrix_abstract[index_target]\n",
    "    \n",
    "    cos = cosine_distance(vector1, vector2)\n",
    "    if np.isnan(cos):\n",
    "        return 0.0\n",
    "    else:\n",
    "        return 1 - cos"
   ]
  },
  {
   "cell_type": "code",
   "execution_count": 392,
   "metadata": {
    "collapsed": true
   },
   "outputs": [],
   "source": [
    "def find_similarity_tfidf_title(index_source, index_target):\n",
    "    \n",
    "    vector1 = tfidf_matrix_title[index_source]\n",
    "    vector2 = tfidf_matrix_title[index_target]\n",
    "    \n",
    "    cos = cosine_distance(vector1, vector2)\n",
    "    if np.isnan(cos):\n",
    "        return 0.0\n",
    "    else:\n",
    "        return 1 - cos"
   ]
  },
  {
   "cell_type": "code",
   "execution_count": 393,
   "metadata": {
    "collapsed": true
   },
   "outputs": [],
   "source": [
    "# tentative d'utiliser seulement les deux textes au lieu du corpus, mais moins bien\n",
    "def cosine_sim(text1, text2):\n",
    "    tfidf = vectorizer.fit_transform([text1, text2])\n",
    "    return ((tfidf * tfidf.T).A)[0,1]"
   ]
  },
  {
   "cell_type": "code",
   "execution_count": 394,
   "metadata": {
    "collapsed": true
   },
   "outputs": [],
   "source": [
    "def find_similarity(source, target):\n",
    "    all_words = list(set(source + target))\n",
    "    \n",
    "    vector1 = [0] * len(all_words)\n",
    "    vector2 = [0] * len(all_words)\n",
    "    # build the vector for the first sentence\n",
    "    for w in source:\n",
    "        vector1[all_words.index(w)] += 1\n",
    "    # build the vector for the second sentence\n",
    "    for w in target:\n",
    "        vector2[all_words.index(w)] += 1\n",
    "\n",
    "    cos = cosine_distance(vector1, vector2)\n",
    "    if np.isnan(cos):\n",
    "        return 0.0 #ou 1???\n",
    "    else:\n",
    "        return 1 - cos"
   ]
  },
  {
   "cell_type": "markdown",
   "metadata": {},
   "source": [
    "##### Transform journals' names in numerical categories"
   ]
  },
  {
   "cell_type": "code",
   "execution_count": 395,
   "metadata": {
    "collapsed": true
   },
   "outputs": [],
   "source": [
    "journals = list(set([el[4] for el in node_info]))\n",
    "journ = {}\n",
    "for i, j in enumerate(journals):\n",
    "    journ[j] = i"
   ]
  },
  {
   "cell_type": "markdown",
   "metadata": {},
   "source": [
    "## Create Features"
   ]
  },
  {
   "cell_type": "code",
   "execution_count": 396,
   "metadata": {
    "collapsed": true
   },
   "outputs": [],
   "source": [
    "def similarityNeighbors(index_source, index_target, sim_neighbors):\n",
    "    res = []\n",
    "    n = set(g.neighbors(index_target))\n",
    "    if not n:\n",
    "        sim_neighbors.append(0.0)\n",
    "    else:\n",
    "        for nei in n : \n",
    "            res.append(find_similarity_tfidf_abstract(nei, index_source))\n",
    "        sim_neighbors.append(np.mean(res))"
   ]
  },
  {
   "cell_type": "code",
   "execution_count": 397,
   "metadata": {
    "collapsed": true
   },
   "outputs": [],
   "source": [
    "def commonNeighbors(index_source, index_target, comm_neighb):\n",
    "    na = set(g.neighbors(index_source))\n",
    "    nb = set(g.neighbors(index_target))\n",
    "    comm_neighb.append(len(na.intersection(nb)))"
   ]
  },
  {
   "cell_type": "code",
   "execution_count": 398,
   "metadata": {
    "collapsed": true
   },
   "outputs": [],
   "source": [
    "# check if a citation is possible or not\n",
    "def isPossible(source_info, target_info, is_possible):\n",
    "    if int(source_info[1]) - int(target_info[1]) < 0:\n",
    "            is_possible.append(-1)\n",
    "    else:\n",
    "        is_possible.append(0)"
   ]
  },
  {
   "cell_type": "code",
   "execution_count": 399,
   "metadata": {
    "collapsed": true
   },
   "outputs": [],
   "source": [
    "def overlapTitle(source_title, target_title, overlap_title):\n",
    "    overlap_title.append(len(set(source_title).intersection(set(target_title))))"
   ]
  },
  {
   "cell_type": "code",
   "execution_count": 400,
   "metadata": {
    "collapsed": true
   },
   "outputs": [],
   "source": [
    "def tempDiff(source_info, target_info, temp_diff):\n",
    "    temp_diff.append(int(source_info[1]) - int(target_info[1]))"
   ]
  },
  {
   "cell_type": "code",
   "execution_count": 401,
   "metadata": {
    "collapsed": true
   },
   "outputs": [],
   "source": [
    "def commAuthors(source_info, target_info, comm_auth):\n",
    "    source_auth = source_info[3].split(\",\")\n",
    "    target_auth = target_info[3].split(\",\")\n",
    "    comm_auth.append(len(set(source_auth).intersection(set(target_auth))))"
   ]
  },
  {
   "cell_type": "code",
   "execution_count": 402,
   "metadata": {
    "collapsed": true
   },
   "outputs": [],
   "source": [
    "def tfidfTitle(source_title, target_title, source_info, target_info, index_source, index_target, tfidf_title):\n",
    "    if not source_title:\n",
    "        source_title = find_best_from_abstract(source_info[5])\n",
    "    if not target_title:\n",
    "        target_title = find_best_from_abstract(target_info[5])\n",
    "\n",
    "    tfidf_title.append(find_similarity_tfidf_title(index_source, index_target))"
   ]
  },
  {
   "cell_type": "code",
   "execution_count": 403,
   "metadata": {
    "collapsed": true
   },
   "outputs": [],
   "source": [
    "def tfidfAbstract(index_source, index_target, tfidf_abstract):\n",
    "    tfidf_abstract.append(find_similarity_tfidf_abstract(index_source, index_target))"
   ]
  },
  {
   "cell_type": "code",
   "execution_count": 404,
   "metadata": {
    "collapsed": true
   },
   "outputs": [],
   "source": [
    "def lsaTitle(index_source, index_target, lsa_title):\n",
    "    lsa_title.append(find_similarity_lsa(index_source, index_target, svdMatrix_title))"
   ]
  },
  {
   "cell_type": "code",
   "execution_count": 405,
   "metadata": {
    "collapsed": true
   },
   "outputs": [],
   "source": [
    "def lsaAbstract(index_source, index_target, lsa_abstract):\n",
    "    lsa_abstract.append(find_similarity_lsa(index_source, index_target, svdMatrix_abstract))"
   ]
  },
  {
   "cell_type": "code",
   "execution_count": 406,
   "metadata": {
    "collapsed": true
   },
   "outputs": [],
   "source": [
    "def numInOut(index_source, index_target, num_in, num_out):\n",
    "    num_in.append(list_indegrees[index_target])\n",
    "    num_out.append(list_outdegrees[index_source])"
   ]
  },
  {
   "cell_type": "code",
   "execution_count": 407,
   "metadata": {
    "collapsed": true
   },
   "outputs": [],
   "source": [
    "def makeCores(index_source, index_target, core_target, core_diff):\n",
    "    a = cores[index_source]\n",
    "    b = cores[index_target]\n",
    "    core_target.append(b)\n",
    "    core_diff.append(abs(a-b))"
   ]
  },
  {
   "cell_type": "code",
   "execution_count": 408,
   "metadata": {
    "collapsed": true
   },
   "outputs": [],
   "source": [
    "def makeJourn(source_info, target_info, journ_diff):\n",
    "\n",
    "    a = source_info[4]\n",
    "    b = target_info[4]\n",
    "    #journ_source.append(journ[a])\n",
    "    #journ_target.append(journ[b])\n",
    "    if not a or not b:\n",
    "        journ_diff.append(-1)\n",
    "    elif journ[a] == journ[b]:\n",
    "        journ_diff.append(0)\n",
    "    else:\n",
    "        journ_diff.append(1)"
   ]
  },
  {
   "cell_type": "code",
   "execution_count": 416,
   "metadata": {
    "collapsed": true
   },
   "outputs": [],
   "source": [
    "def createFeatures(curr_set):\n",
    "    is_possible = []\n",
    "    overlap_title = []\n",
    "    temp_diff = []\n",
    "    # number of common authors\n",
    "    comm_auth = []\n",
    "    # tfidf\n",
    "    tfidf_abstract = []\n",
    "    tfidf_title = []\n",
    "    # number of entering nodes / leaving nodes\n",
    "    num_in = []\n",
    "    num_out = []\n",
    "    #coreness of the cited article/considered article\n",
    "    core_target = []\n",
    "    core_diff = []\n",
    "    #same journal\n",
    "    journ_source = []\n",
    "    journ_target = []\n",
    "    journ_diff = []\n",
    "    #number of common neighbors\n",
    "    comm_neighb = []\n",
    "    sim_neighbors = []\n",
    "    #lsa similarity\n",
    "    lsa_title = []\n",
    "    lsa_abstract = []\n",
    "\n",
    "    counter = 0\n",
    "    for i in range(len(curr_set)):\n",
    "        source = curr_set[i][0]\n",
    "        target = curr_set[i][1]\n",
    "\n",
    "        index_source = IDs.index(source)\n",
    "        index_target = IDs.index(target)\n",
    "\n",
    "        source_info = [element for element in node_info if element[0]==source][0]\n",
    "        target_info = [element for element in node_info if element[0]==target][0]\n",
    "        \n",
    "        source_title = source_info[2].lower().split(\" \")\n",
    "        source_title = [token for token in source_title if token not in stpwds]\n",
    "        source_title = [stemmer.stem(token) for token in source_title]\n",
    "\n",
    "        target_title = target_info[2].lower().split(\" \")\n",
    "        target_title = [token for token in target_title if token not in stpwds]\n",
    "        target_title = [stemmer.stem(token) for token in target_title]\n",
    "        \n",
    "        #Create features\n",
    "        \n",
    "        isPossible(source_info, target_info, is_possible)\n",
    "        tempDiff(source_info, target_info, temp_diff)\n",
    "        \n",
    "        overlapTitle(source_title, target_title, overlap_title)\n",
    "        commAuthors(source_info, target_info, comm_auth)\n",
    "        \n",
    "        tfidfTitle(source_title, target_title, source_info, target_info, index_source, index_target, tfidf_title)\n",
    "        tfidfAbstract(index_source, index_target, tfidf_abstract)\n",
    "        \n",
    "        lsaTitle(index_source, index_target, lsa_title)\n",
    "        lsaAbstract(index_source, index_target, lsa_abstract)\n",
    "            \n",
    "        numInOut(index_source, index_target, num_in, num_out)\n",
    "        makeCores(index_source, index_target, core_target, core_diff)\n",
    "        makeJourn(source_info, target_info, journ_diff)\n",
    "        \n",
    "        commonNeighbors(index_source, index_target, comm_neighb)\n",
    "        similarityNeighbors(index_source, index_target, sim_neighbors)\n",
    "\n",
    "        counter += 1\n",
    "        if counter % 1000 == True:\n",
    "            print (counter, \"examples processsed\")\n",
    "\n",
    "    features = [is_possible, temp_diff, comm_auth, overlap_title, tfidf_title, tfidf_abstract, \n",
    "                num_in, num_out, core_target, core_diff, journ_diff,\n",
    "               comm_neighb, sim_neighbors, lsa_title, lsa_abstract]\n",
    "    return features"
   ]
  },
  {
   "cell_type": "markdown",
   "metadata": {},
   "source": [
    "### Data Separation"
   ]
  },
  {
   "cell_type": "code",
   "execution_count": 419,
   "metadata": {},
   "outputs": [],
   "source": [
    "# For the tests\n",
    "to_keep = random.sample(range(len(training_set)), k=int(round(len(training_set)*0.10)))\n",
    "all_set_reduced = [training_set[i] for i in to_keep]\n",
    "\n",
    "X = [all_set_reduced[i][:2] for i in range(len(all_set_reduced))]\n",
    "y = np.array([int(all_set_reduced[i][2]) for i in range(len(all_set_reduced))])\n",
    "\n",
    "training_set_reduced, testing_set, labels_array, y_true = train_test_split(X, y, test_size = 0.5, random_state = 42)"
   ]
  },
  {
   "cell_type": "code",
   "execution_count": 418,
   "metadata": {
    "collapsed": true
   },
   "outputs": [],
   "source": [
    "#For the real testing set\n",
    "with open(\"testing_set.txt\", \"r\") as f:\n",
    "    reader = csv.reader(f)\n",
    "    testing_set  = list(reader)\n",
    "\n",
    "testing_set = [element[0].split(\" \") for element in testing_set]"
   ]
  },
  {
   "cell_type": "markdown",
   "metadata": {},
   "source": [
    "### Training"
   ]
  },
  {
   "cell_type": "code",
   "execution_count": 420,
   "metadata": {
    "scrolled": false
   },
   "outputs": [
    {
     "name": "stdout",
     "output_type": "stream",
     "text": [
      "1 examples processsed\n",
      "1001 examples processsed\n"
     ]
    },
    {
     "name": "stderr",
     "output_type": "stream",
     "text": [
      "/Users/Jenny/anaconda3/lib/python3.6/site-packages/nltk/cluster/util.py:133: RuntimeWarning: invalid value encountered in double_scalars\n",
      "  sqrt(numpy.dot(u, u)) * sqrt(numpy.dot(v, v))))\n"
     ]
    },
    {
     "name": "stdout",
     "output_type": "stream",
     "text": [
      "2001 examples processsed\n",
      "3001 examples processsed\n",
      "4001 examples processsed\n",
      "5001 examples processsed\n",
      "6001 examples processsed\n",
      "7001 examples processsed\n",
      "8001 examples processsed\n",
      "9001 examples processsed\n",
      "10001 examples processsed\n",
      "11001 examples processsed\n",
      "12001 examples processsed\n",
      "13001 examples processsed\n",
      "14001 examples processsed\n",
      "15001 examples processsed\n",
      "16001 examples processsed\n",
      "17001 examples processsed\n",
      "18001 examples processsed\n",
      "19001 examples processsed\n",
      "20001 examples processsed\n",
      "21001 examples processsed\n",
      "22001 examples processsed\n",
      "23001 examples processsed\n",
      "24001 examples processsed\n",
      "25001 examples processsed\n",
      "26001 examples processsed\n",
      "27001 examples processsed\n",
      "28001 examples processsed\n",
      "29001 examples processsed\n",
      "30001 examples processsed\n"
     ]
    }
   ],
   "source": [
    "all_features_train = createFeatures(training_set_reduced)"
   ]
  },
  {
   "cell_type": "code",
   "execution_count": 491,
   "metadata": {},
   "outputs": [],
   "source": [
    "training_features = np.array(all_features_train).T #to array\n",
    "training_features = preprocessing.scale(training_features) #scale"
   ]
  },
  {
   "cell_type": "markdown",
   "metadata": {},
   "source": [
    "## Testing"
   ]
  },
  {
   "cell_type": "code",
   "execution_count": 422,
   "metadata": {
    "scrolled": false
   },
   "outputs": [
    {
     "name": "stdout",
     "output_type": "stream",
     "text": [
      "1 examples processsed\n"
     ]
    },
    {
     "name": "stderr",
     "output_type": "stream",
     "text": [
      "/Users/Jenny/anaconda3/lib/python3.6/site-packages/nltk/cluster/util.py:133: RuntimeWarning: invalid value encountered in double_scalars\n",
      "  sqrt(numpy.dot(u, u)) * sqrt(numpy.dot(v, v))))\n"
     ]
    },
    {
     "name": "stdout",
     "output_type": "stream",
     "text": [
      "1001 examples processsed\n",
      "2001 examples processsed\n",
      "3001 examples processsed\n",
      "4001 examples processsed\n",
      "5001 examples processsed\n",
      "6001 examples processsed\n",
      "7001 examples processsed\n",
      "8001 examples processsed\n",
      "9001 examples processsed\n",
      "10001 examples processsed\n",
      "11001 examples processsed\n",
      "12001 examples processsed\n",
      "13001 examples processsed\n",
      "14001 examples processsed\n",
      "15001 examples processsed\n",
      "16001 examples processsed\n",
      "17001 examples processsed\n",
      "18001 examples processsed\n",
      "19001 examples processsed\n",
      "20001 examples processsed\n",
      "21001 examples processsed\n",
      "22001 examples processsed\n",
      "23001 examples processsed\n",
      "24001 examples processsed\n",
      "25001 examples processsed\n",
      "26001 examples processsed\n",
      "27001 examples processsed\n",
      "28001 examples processsed\n",
      "29001 examples processsed\n",
      "30001 examples processsed\n"
     ]
    }
   ],
   "source": [
    "#create the features for the test set\n",
    "all_features_test = createFeatures(testing_set)"
   ]
  },
  {
   "cell_type": "code",
   "execution_count": 493,
   "metadata": {},
   "outputs": [],
   "source": [
    "testing_features = np.array(all_features_test).T #to array\n",
    "testing_features = preprocessing.scale(testing_features) #scale"
   ]
  },
  {
   "cell_type": "markdown",
   "metadata": {},
   "source": [
    "SVM"
   ]
  },
  {
   "cell_type": "code",
   "execution_count": 497,
   "metadata": {},
   "outputs": [],
   "source": [
    "# initialize basic SVM and train the model\n",
    "clf = svm.SVC(probability = True)\n",
    "clf.fit(training_features, labels_array)\n",
    "pred_SVM = clf.predict(testing_features)"
   ]
  },
  {
   "cell_type": "code",
   "execution_count": 485,
   "metadata": {},
   "outputs": [],
   "source": [
    "#pred_SVM = [el[1] for el in pred_SVM]"
   ]
  },
  {
   "cell_type": "code",
   "execution_count": 486,
   "metadata": {
    "scrolled": true
   },
   "outputs": [
    {
     "data": {
      "text/plain": [
       "0.98565476190476198"
      ]
     },
     "execution_count": 486,
     "metadata": {},
     "output_type": "execute_result"
    }
   ],
   "source": [
    "# score for the tests\n",
    "f1_score( y_true , pred_SVM)"
   ]
  },
  {
   "cell_type": "markdown",
   "metadata": {},
   "source": [
    "Random Forest"
   ]
  },
  {
   "cell_type": "code",
   "execution_count": 487,
   "metadata": {},
   "outputs": [],
   "source": [
    "clf = RandomForestClassifier(min_samples_split = 40, \n",
    "                            max_features = 5,\n",
    "                            max_leaf_nodes = 20,\n",
    "                            n_estimators = 400,\n",
    "                            max_depth = 10,\n",
    "                            min_samples_leaf = 10)\n",
    "clf.fit(training_features, labels_array)\n",
    "pred_RF = clf.predict(testing_features) #prediction"
   ]
  },
  {
   "cell_type": "code",
   "execution_count": 332,
   "metadata": {
    "collapsed": true
   },
   "outputs": [],
   "source": [
    "pred_RF = [el[1] for el in pred_RF]"
   ]
  },
  {
   "cell_type": "code",
   "execution_count": 488,
   "metadata": {
    "scrolled": true
   },
   "outputs": [
    {
     "data": {
      "text/plain": [
       "0.98514040677764203"
      ]
     },
     "execution_count": 488,
     "metadata": {},
     "output_type": "execute_result"
    }
   ],
   "source": [
    "# score for the tests\n",
    "f1_score(y_true , pred_RF)"
   ]
  },
  {
   "cell_type": "code",
   "execution_count": 189,
   "metadata": {
    "collapsed": true
   },
   "outputs": [],
   "source": [
    "# to export the prediction\n",
    "predictions_RF = zip(range(len(testing_set)), pred_RF)\n",
    "with open(\"predictions_RF.csv\",\"w\") as pred1:\n",
    "    csv_out = csv.writer(pred1)\n",
    "    csv_out.writerow([\"ID\", \"category\"])\n",
    "    for row in predictions_RF:\n",
    "        csv_out.writerow(row)"
   ]
  },
  {
   "cell_type": "markdown",
   "metadata": {},
   "source": [
    "Extra Forest"
   ]
  },
  {
   "cell_type": "code",
   "execution_count": 429,
   "metadata": {
    "collapsed": true
   },
   "outputs": [],
   "source": [
    "clf = ExtraTreesClassifier(min_samples_split = 40, \n",
    "                            max_features = 5,\n",
    "                            max_leaf_nodes = 20,\n",
    "                            n_estimators = 400,\n",
    "                            max_depth = 10,\n",
    "                            min_samples_leaf = 10)\n",
    "clf.fit(training_features, labels_array)\n",
    "pred_EF = clf.predict(testing_features) #prediction"
   ]
  },
  {
   "cell_type": "code",
   "execution_count": 334,
   "metadata": {},
   "outputs": [],
   "source": [
    "pred_EF = [el[1] for el in pred_EF]"
   ]
  },
  {
   "cell_type": "code",
   "execution_count": 430,
   "metadata": {
    "scrolled": true
   },
   "outputs": [
    {
     "data": {
      "text/plain": [
       "0.9676376355780254"
      ]
     },
     "execution_count": 430,
     "metadata": {},
     "output_type": "execute_result"
    }
   ],
   "source": [
    "# score for the tests\n",
    "f1_score( y_true , pred_EF)"
   ]
  },
  {
   "cell_type": "code",
   "execution_count": 93,
   "metadata": {
    "collapsed": true
   },
   "outputs": [],
   "source": [
    "# to export the prediction\n",
    "predictions_EF = zip(range(len(testing_set)), pred_EF)\n",
    "with open(\"predictions_EF.csv\",\"w\") as pred1:\n",
    "    csv_out = csv.writer(pred1)\n",
    "    csv_out.writerow([\"ID\", \"category\"])\n",
    "    for row in predictions_EF:\n",
    "        csv_out.writerow(row)"
   ]
  },
  {
   "cell_type": "markdown",
   "metadata": {},
   "source": [
    "Adaboost"
   ]
  },
  {
   "cell_type": "code",
   "execution_count": 431,
   "metadata": {},
   "outputs": [],
   "source": [
    "from sklearn.ensemble import AdaBoostClassifier\n",
    "from sklearn.tree import DecisionTreeClassifier"
   ]
  },
  {
   "cell_type": "code",
   "execution_count": 432,
   "metadata": {},
   "outputs": [],
   "source": [
    "bdt = AdaBoostClassifier(DecisionTreeClassifier(max_depth=1),\n",
    "                         algorithm=\"SAMME\",\n",
    "                         n_estimators=200)\n",
    "bdt.fit(training_features, labels_array)\n",
    "pred_AB = bdt.predict(testing_features)"
   ]
  },
  {
   "cell_type": "code",
   "execution_count": 433,
   "metadata": {},
   "outputs": [
    {
     "data": {
      "text/plain": [
       "0.98714285714285721"
      ]
     },
     "execution_count": 433,
     "metadata": {},
     "output_type": "execute_result"
    }
   ],
   "source": [
    "# score for the tests\n",
    "f1_score(y_true, pred_AB)"
   ]
  },
  {
   "cell_type": "markdown",
   "metadata": {},
   "source": [
    "LGBM"
   ]
  },
  {
   "cell_type": "code",
   "execution_count": 459,
   "metadata": {},
   "outputs": [],
   "source": [
    "import lightgbm as lgb\n",
    "d_train = lgb.Dataset(training_features, label=labels_array)\n",
    "params = {}\n",
    "params['learning_rate'] = 0.15\n",
    "params['boosting_type'] = 'gbdt'\n",
    "params['objective'] = 'binary'\n",
    "params['metric'] = 'binary_logloss'\n",
    "params['sub_feature'] = 0.5\n",
    "params['num_leaves'] = 20\n",
    "params['min_data'] = 25\n",
    "params['max_depth'] = 10\n",
    "clf = lgb.train(params, d_train, 500)"
   ]
  },
  {
   "cell_type": "code",
   "execution_count": 460,
   "metadata": {
    "collapsed": true
   },
   "outputs": [],
   "source": [
    "pred_LGBM = clf.predict(testing_features) #prediction"
   ]
  },
  {
   "cell_type": "code",
   "execution_count": 437,
   "metadata": {
    "collapsed": true
   },
   "outputs": [],
   "source": [
    "for i in range(0,len(pred_LGBM)):\n",
    "    if pred_LGBM[i] >= .5:       # setting threshold to .5\n",
    "        pred_LGBM[i] = 1\n",
    "    else:  \n",
    "        pred_LGBM[i] = 0"
   ]
  },
  {
   "cell_type": "code",
   "execution_count": 438,
   "metadata": {},
   "outputs": [],
   "source": [
    "pred_LGBM=pred_LGBM.astype(int)"
   ]
  },
  {
   "cell_type": "code",
   "execution_count": 440,
   "metadata": {
    "scrolled": false
   },
   "outputs": [
    {
     "data": {
      "text/plain": [
       "0.98793103448275865"
      ]
     },
     "execution_count": 440,
     "metadata": {},
     "output_type": "execute_result"
    }
   ],
   "source": [
    "# score for the tests\n",
    "f1_score(y_true, pred_LGBM)"
   ]
  },
  {
   "cell_type": "code",
   "execution_count": 182,
   "metadata": {
    "collapsed": true
   },
   "outputs": [],
   "source": [
    "# to export the prediction\n",
    "predictions_LGBM = zip(range(len(testing_set)), pred_LGBM)\n",
    "with open(\"predictions_LGBM.csv\",\"w\") as pred1:\n",
    "    csv_out = csv.writer(pred1)\n",
    "    csv_out.writerow([\"ID\", \"category\"])\n",
    "    for row in predictions_LGBM:\n",
    "        csv_out.writerow(row)"
   ]
  },
  {
   "cell_type": "markdown",
   "metadata": {},
   "source": [
    "XGBoost"
   ]
  },
  {
   "cell_type": "code",
   "execution_count": 469,
   "metadata": {},
   "outputs": [],
   "source": [
    "import xgboost as xgb\n",
    "\n",
    "gbm = xgb.XGBClassifier(learning_rate=0.1, n_estimators=350, max_depth=7, colsample_bytree=1, objective = 'binary:logistic' , nthread=8, silent=True)\n",
    "gbm = gbm.fit(training_features, labels_array)\n",
    "pred_XGB = gbm.predict(testing_features)"
   ]
  },
  {
   "cell_type": "code",
   "execution_count": 471,
   "metadata": {},
   "outputs": [],
   "source": [
    "#pred_XGB = [el[1] for el in pred_XGB]"
   ]
  },
  {
   "cell_type": "code",
   "execution_count": 446,
   "metadata": {},
   "outputs": [
    {
     "data": {
      "text/plain": [
       "0.98783860129047607"
      ]
     },
     "execution_count": 446,
     "metadata": {},
     "output_type": "execute_result"
    }
   ],
   "source": [
    "f1_score(y_true, pred_XGB)"
   ]
  },
  {
   "cell_type": "code",
   "execution_count": 474,
   "metadata": {},
   "outputs": [
    {
     "data": {
      "image/png": "[encoded data removed]",
      "text/plain": [
       "<matplotlib.figure.Figure at 0x1bcd56a390>"
      ]
     },
     "metadata": {},
     "output_type": "display_data"
    }
   ],
   "source": [
    "# plot feature importance using built-in function\n",
    "from xgboost import plot_importance\n",
    "from matplotlib import pyplot\n",
    "\n",
    "# plot feature importance\n",
    "plot_importance(gbm)\n",
    "pyplot.show()"
   ]
  },
  {
   "cell_type": "code",
   "execution_count": null,
   "metadata": {
    "collapsed": true
   },
   "outputs": [],
   "source": [
    "# to export the prediction\n",
    "predictions_XGB = zip(range(len(testing_set)), pred_XGB)\n",
    "with open(\"predictions_LGBM.csv\",\"w\") as pred1:\n",
    "    csv_out = csv.writer(pred1)\n",
    "    csv_out.writerow([\"ID\", \"category\"])\n",
    "    for row in predictions_XGB:\n",
    "        csv_out.writerow(row)"
   ]
  },
  {
   "cell_type": "markdown",
   "metadata": {},
   "source": [
    "Logistic Regression"
   ]
  },
  {
   "cell_type": "code",
   "execution_count": 454,
   "metadata": {
    "collapsed": true
   },
   "outputs": [],
   "source": [
    "clf = LogisticRegression(penalty = 'l1', C = 1, random_state = 5)\n",
    "clf.fit(training_features, labels_array)\n",
    "pred_LR = clf.predict_proba(testing_features) #prediction"
   ]
  },
  {
   "cell_type": "code",
   "execution_count": 455,
   "metadata": {
    "collapsed": true
   },
   "outputs": [],
   "source": [
    "pred_LR = [el[1] for el in pred_LR]"
   ]
  },
  {
   "cell_type": "code",
   "execution_count": 457,
   "metadata": {
    "scrolled": true
   },
   "outputs": [],
   "source": [
    "# score for the tests\n",
    "f1_score( y_true , pred_LR)"
   ]
  },
  {
   "cell_type": "markdown",
   "metadata": {},
   "source": [
    "Mix des résultats"
   ]
  },
  {
   "cell_type": "code",
   "execution_count": 347,
   "metadata": {},
   "outputs": [],
   "source": [
    "pred = (np.array(pred_LR) + \n",
    "        np.array(pred_SVM) + \n",
    "        np.array(pred_RF) + \n",
    "        np.array(pred_EF) + \n",
    "        5*np.array(pred_XGB) + \n",
    "        5*np.array(pred_LGBM)) / 14"
   ]
  },
  {
   "cell_type": "code",
   "execution_count": 348,
   "metadata": {
    "collapsed": true
   },
   "outputs": [],
   "source": [
    "for i in range(0,len(pred)):\n",
    "    if pred[i] >= .5:       # setting threshold to .5\n",
    "        pred[i] = 1\n",
    "    else:  \n",
    "        pred[i] = 0"
   ]
  },
  {
   "cell_type": "code",
   "execution_count": 350,
   "metadata": {},
   "outputs": [],
   "source": [
    "pred = list(pred.astype(int))"
   ]
  },
  {
   "cell_type": "code",
   "execution_count": 321,
   "metadata": {},
   "outputs": [
    {
     "data": {
      "text/plain": [
       "0.9884768489419653"
      ]
     },
     "execution_count": 321,
     "metadata": {},
     "output_type": "execute_result"
    }
   ],
   "source": [
    "f1_score( y_true , pred)"
   ]
  },
  {
   "cell_type": "code",
   "execution_count": 352,
   "metadata": {},
   "outputs": [],
   "source": [
    "# to export the prediction\n",
    "predictions = zip(range(len(testing_set)), pred)\n",
    "with open(\"predictions.csv\",\"w\") as pred1:\n",
    "    csv_out = csv.writer(pred1)\n",
    "    csv_out.writerow([\"ID\", \"category\"])\n",
    "    for row in predictions:\n",
    "        csv_out.writerow(row)"
   ]
  },
  {
   "cell_type": "markdown",
   "metadata": {},
   "source": [
    "Feature Importance"
   ]
  },
  {
   "cell_type": "code",
   "execution_count": null,
   "metadata": {
    "collapsed": true
   },
   "outputs": [],
   "source": []
  }
 ],
 "metadata": {
  "kernelspec": {
   "display_name": "Python 3",
   "language": "python",
   "name": "python3"
  },
  "language_info": {
   "codemirror_mode": {
    "name": "ipython",
    "version": 3
   },
   "file_extension": ".py",
   "mimetype": "text/x-python",
   "name": "python",
   "nbconvert_exporter": "python",
   "pygments_lexer": "ipython3",
   "version": "3.6.3"
  }
 },
 "nbformat": 4,
 "nbformat_minor": 2
}
